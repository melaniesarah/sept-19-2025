{
 "cells": [
  {
   "cell_type": "code",
   "execution_count": 41,
   "id": "05d498ff",
   "metadata": {},
   "outputs": [],
   "source": [
    "import pandas as pd\n",
    "import numpy as np\n",
    "\n",
    "import matplotlib.pyplot as plt\n",
    "\n",
    "# from sklearn.model_selection import train_test_split\n",
    "# from sklearn.metrics import mutual_info_score\n",
    "# from sklearn.feature_extraction import DictVectorizer\n",
    "# from sklearn.linear_model import LogisticRegression\n",
    "# from sklearn.model_selection import train_test_split\n",
    "\n",
    "# from scipy.stats import ttest_ind\n",
    "\n",
    "import spacy"
   ]
  },
  {
   "cell_type": "code",
   "execution_count": 42,
   "id": "12d5ff26",
   "metadata": {},
   "outputs": [
    {
     "data": {
      "text/html": [
       "<div>\n",
       "<style scoped>\n",
       "    .dataframe tbody tr th:only-of-type {\n",
       "        vertical-align: middle;\n",
       "    }\n",
       "\n",
       "    .dataframe tbody tr th {\n",
       "        vertical-align: top;\n",
       "    }\n",
       "\n",
       "    .dataframe thead th {\n",
       "        text-align: right;\n",
       "    }\n",
       "</style>\n",
       "<table border=\"1\" class=\"dataframe\">\n",
       "  <thead>\n",
       "    <tr style=\"text-align: right;\">\n",
       "      <th></th>\n",
       "      <th>timestamp</th>\n",
       "      <th>media_id</th>\n",
       "      <th>media_caption</th>\n",
       "      <th>comment_text</th>\n",
       "    </tr>\n",
       "  </thead>\n",
       "  <tbody>\n",
       "    <tr>\n",
       "      <th>0</th>\n",
       "      <td>2025-03-01 00:13:57.153000+00:00</td>\n",
       "      <td>1090986906404998</td>\n",
       "      <td>Soft skin, soft life 🩷🌸🫧 get your hands on thi...</td>\n",
       "      <td>I bet this is good</td>\n",
       "    </tr>\n",
       "    <tr>\n",
       "      <th>1</th>\n",
       "      <td>2025-03-01 00:23:06.879000+00:00</td>\n",
       "      <td>17950254656929862</td>\n",
       "      <td>Why use one scrub when you can use them all at...</td>\n",
       "      <td>i know this smells so good</td>\n",
       "    </tr>\n",
       "    <tr>\n",
       "      <th>2</th>\n",
       "      <td>2025-03-01 00:04:05.094000+00:00</td>\n",
       "      <td>1090109319826090</td>\n",
       "      <td>Morning routine with Tree Hut 🍊🫧 Now available...</td>\n",
       "      <td>Love it</td>\n",
       "    </tr>\n",
       "    <tr>\n",
       "      <th>3</th>\n",
       "      <td>2025-03-01 00:41:59.467000+00:00</td>\n",
       "      <td>1098364052333950</td>\n",
       "      <td>Why use one scrub when you can use them all at...</td>\n",
       "      <td>Please carry these in Canada! I miss them so m...</td>\n",
       "    </tr>\n",
       "    <tr>\n",
       "      <th>4</th>\n",
       "      <td>2025-03-01 02:21:29.715000+00:00</td>\n",
       "      <td>1083943630442659</td>\n",
       "      <td>Vanilla Serum-Infused Hand Wash: A sweet escap...</td>\n",
       "      <td>I love it ..✌️</td>\n",
       "    </tr>\n",
       "  </tbody>\n",
       "</table>\n",
       "</div>"
      ],
      "text/plain": [
       "                          timestamp           media_id  \\\n",
       "0  2025-03-01 00:13:57.153000+00:00   1090986906404998   \n",
       "1  2025-03-01 00:23:06.879000+00:00  17950254656929862   \n",
       "2  2025-03-01 00:04:05.094000+00:00   1090109319826090   \n",
       "3  2025-03-01 00:41:59.467000+00:00   1098364052333950   \n",
       "4  2025-03-01 02:21:29.715000+00:00   1083943630442659   \n",
       "\n",
       "                                       media_caption  \\\n",
       "0  Soft skin, soft life 🩷🌸🫧 get your hands on thi...   \n",
       "1  Why use one scrub when you can use them all at...   \n",
       "2  Morning routine with Tree Hut 🍊🫧 Now available...   \n",
       "3  Why use one scrub when you can use them all at...   \n",
       "4  Vanilla Serum-Infused Hand Wash: A sweet escap...   \n",
       "\n",
       "                                        comment_text  \n",
       "0                                 I bet this is good  \n",
       "1                         i know this smells so good  \n",
       "2                                            Love it  \n",
       "3  Please carry these in Canada! I miss them so m...  \n",
       "4                                     I love it ..✌️  "
      ]
     },
     "execution_count": 42,
     "metadata": {},
     "output_type": "execute_result"
    }
   ],
   "source": [
    "df = pd.read_csv('../data/raw/engagements.csv')\n",
    "df.head()"
   ]
  },
  {
   "cell_type": "code",
   "execution_count": 44,
   "id": "2c6539dc",
   "metadata": {},
   "outputs": [
    {
     "name": "stdout",
     "output_type": "stream",
     "text": [
      "Collecting en-core-web-sm==3.8.0\n",
      "  Downloading https://github.com/explosion/spacy-models/releases/download/en_core_web_sm-3.8.0/en_core_web_sm-3.8.0-py3-none-any.whl (12.8 MB)\n",
      "\u001b[2K     \u001b[38;2;114;156;31m━━━━━━━━━━━━━━━━━━━━━━━━━━━━━━━━━━━━━━━━\u001b[0m \u001b[32m12.8/12.8 MB\u001b[0m \u001b[31m5.2 MB/s\u001b[0m  \u001b[33m0:00:02\u001b[0m5.2 MB/s\u001b[0m eta \u001b[36m0:00:01\u001b[0m01\u001b[0m\n",
      "\u001b[?25hInstalling collected packages: en-core-web-sm\n",
      "Successfully installed en-core-web-sm-3.8.0\n",
      "\u001b[38;5;2m✔ Download and installation successful\u001b[0m\n",
      "You can now load the package via spacy.load('en_core_web_sm')\n"
     ]
    }
   ],
   "source": [
    "!python -m spacy download en_core_web_sm"
   ]
  },
  {
   "cell_type": "code",
   "execution_count": 45,
   "id": "63397872",
   "metadata": {},
   "outputs": [],
   "source": [
    "nlp = spacy.load('en_core_web_sm')"
   ]
  },
  {
   "cell_type": "code",
   "execution_count": null,
   "id": "b7a8d67b",
   "metadata": {},
   "outputs": [
    {
     "name": "stdout",
     "output_type": "stream",
     "text": [
      "Sample POS tags:\n",
      "Soft: ADJ\n",
      "skin: NOUN\n",
      ",: PUNCT\n",
      "soft: ADJ\n",
      "life: NOUN\n",
      "🩷: SYM\n",
      "🌸: NOUN\n",
      "🫧: VERB\n",
      "get: VERB\n",
      "your: PRON\n",
      "hands: NOUN\n",
      "on: ADP\n",
      "this: DET\n",
      "self: NOUN\n",
      "-: PUNCT\n",
      "care: NOUN\n",
      "gem: NOUN\n",
      "!: PUNCT\n"
     ]
    }
   ],
   "source": [
    "def extract_pos_tags(text, nlp_model):\n",
    "    \"\"\"\n",
    "    Extract parts of speech tags from text using spaCy.\n",
    "    Returns a list of (token, pos_tag) tuples.\n",
    "    \"\"\"\n",
    "    if pd.isna(text) or text == '':\n",
    "        return []\n",
    "    \n",
    "    doc = nlp_model(str(text))\n",
    "    return [(token.text, token.pos_) for token in doc if not token.is_space]\n",
    "\n",
    "# Test the function on a sample\n",
    "sample_text = \"Soft skin, soft life 🩷🌸🫧 get your hands on this self-care gem!\"\n",
    "sample_pos = extract_pos_tags(sample_text, nlp)\n",
    "print(\"Sample POS tags:\")\n",
    "for token, pos in sample_pos:\n",
    "    print(f\"{token}: {pos}\")\n"
   ]
  },
  {
   "cell_type": "code",
   "execution_count": null,
   "id": "c762a8aa",
   "metadata": {},
   "outputs": [
    {
     "name": "stdout",
     "output_type": "stream",
     "text": [
      "Applying POS tagging to media_caption column...\n",
      "\n",
      "Sample media_caption POS tags:\n",
      "Row 0: [('Soft', 'ADJ'), ('skin', 'NOUN'), (',', 'PUNCT'), ('soft', 'ADJ'), ('life', 'NOUN'), ('🩷', 'SYM'), ('🌸', 'NOUN'), ('🫧', 'VERB'), ('get', 'VERB'), ('your', 'PRON')]...\n",
      "Row 1: [('Why', 'SCONJ'), ('use', 'VERB'), ('one', 'NUM'), ('scrub', 'NOUN'), ('when', 'SCONJ'), ('you', 'PRON'), ('can', 'AUX'), ('use', 'VERB'), ('them', 'PRON'), ('all', 'PRON')]...\n",
      "Row 2: [('Morning', 'PROPN'), ('routine', 'NOUN'), ('with', 'ADP'), ('Tree', 'PROPN'), ('Hut', 'PROPN'), ('🍊', 'PROPN'), ('🫧', 'VERB'), ('Now', 'ADV'), ('available', 'ADJ'), ('online', 'ADJ')]...\n"
     ]
    }
   ],
   "source": [
    "# Apply POS tagging to media_caption column\n",
    "print(\"Applying POS tagging to media_caption column...\")\n",
    "df['media_caption_pos'] = df['media_caption'].apply(lambda x: extract_pos_tags(x, nlp))\n",
    "\n",
    "# Show sample results\n",
    "print(\"\\nSample media_caption POS tags:\")\n",
    "for i in range(3):\n",
    "    if not df['media_caption_pos'].iloc[i]:\n",
    "        print(f\"Row {i}: No text or empty\")\n",
    "    else:\n",
    "        print(f\"Row {i}: {df['media_caption_pos'].iloc[i][:10]}...\")  # Show first 10 tags\n"
   ]
  },
  {
   "cell_type": "code",
   "execution_count": null,
   "id": "c4552de8",
   "metadata": {},
   "outputs": [
    {
     "name": "stdout",
     "output_type": "stream",
     "text": [
      "Applying POS tagging to comment_text column...\n",
      "\n",
      "Sample comment_text POS tags:\n",
      "Row 0: [('I', 'PRON'), ('bet', 'VERB'), ('this', 'PRON'), ('is', 'AUX'), ('good', 'ADJ')]...\n",
      "Row 1: [('i', 'PRON'), ('know', 'VERB'), ('this', 'PRON'), ('smells', 'VERB'), ('so', 'ADV'), ('good', 'ADJ')]...\n",
      "Row 2: [('Love', 'VERB'), ('it', 'PRON')]...\n"
     ]
    }
   ],
   "source": [
    "# Apply POS tagging to comment_text column\n",
    "print(\"Applying POS tagging to comment_text column...\")\n",
    "df['comment_text_pos'] = df['comment_text'].apply(lambda x: extract_pos_tags(x, nlp))\n",
    "\n",
    "# Show sample results\n",
    "print(\"\\nSample comment_text POS tags:\")\n",
    "for i in range(3):\n",
    "    if not df['comment_text_pos'].iloc[i]:\n",
    "        print(f\"Row {i}: No text or empty\")\n",
    "    else:\n",
    "        print(f\"Row {i}: {df['comment_text_pos'].iloc[i][:10]}...\")  # Show first 10 tags\n"
   ]
  },
  {
   "cell_type": "code",
   "execution_count": null,
   "id": "1e9a7f96",
   "metadata": {},
   "outputs": [
    {
     "name": "stdout",
     "output_type": "stream",
     "text": [
      "POS Tag Summary for Media Captions:\n",
      "========================================\n",
      "NOUN: 264817\n",
      "PROPN: 196510\n",
      "PUNCT: 179933\n",
      "VERB: 162664\n",
      "ADP: 120158\n",
      "PRON: 98570\n",
      "DET: 79513\n",
      "AUX: 72330\n",
      "ADJ: 71018\n",
      "NUM: 59220\n",
      "\n",
      "POS Tag Summary for Comment Text:\n",
      "========================================\n",
      "PROPN: 20008\n",
      "NOUN: 15625\n",
      "PUNCT: 12788\n",
      "VERB: 8687\n",
      "PRON: 7903\n",
      "ADJ: 3479\n",
      "ADV: 3183\n",
      "AUX: 3056\n",
      "X: 3009\n",
      "DET: 2631\n",
      "\n",
      "POS Tag Comparison (Top 15):\n",
      "==================================================\n",
      "       Media_Caption_Count  Comment_Text_Count\n",
      "NOUN                264817               15625\n",
      "PROPN               196510               20008\n",
      "PUNCT               179933               12788\n",
      "VERB                162664                8687\n",
      "ADP                 120158                2480\n",
      "PRON                 98570                7903\n",
      "DET                  79513                2631\n",
      "AUX                  72330                3056\n",
      "ADJ                  71018                3479\n",
      "NUM                  59220                2580\n",
      "SYM                  36378                 473\n",
      "ADV                  32920                3183\n",
      "CCONJ                26931                1162\n",
      "PART                 22319                1202\n",
      "X                     9391                3009\n"
     ]
    }
   ],
   "source": [
    "# Create summary statistics for POS tags\n",
    "from collections import Counter\n",
    "\n",
    "def get_pos_summary(pos_list):\n",
    "    \"\"\"Get POS tag frequency summary from a list of POS tag lists\"\"\"\n",
    "    all_pos = []\n",
    "    for pos_tags in pos_list:\n",
    "        if pos_tags:  # Skip empty lists\n",
    "            all_pos.extend([pos for token, pos in pos_tags])\n",
    "    return Counter(all_pos)\n",
    "\n",
    "# Get POS summaries for both columns\n",
    "media_caption_pos_summary = get_pos_summary(df['media_caption_pos'])\n",
    "comment_text_pos_summary = get_pos_summary(df['comment_text_pos'])\n",
    "\n",
    "print(\"POS Tag Summary for Media Captions:\")\n",
    "print(\"=\" * 40)\n",
    "for pos, count in media_caption_pos_summary.most_common(10):\n",
    "    print(f\"{pos}: {count}\")\n",
    "\n",
    "print(\"\\nPOS Tag Summary for Comment Text:\")\n",
    "print(\"=\" * 40)\n",
    "for pos, count in comment_text_pos_summary.most_common(10):\n",
    "    print(f\"{pos}: {count}\")\n",
    "\n",
    "# Create a comparison DataFrame\n",
    "pos_comparison = pd.DataFrame({\n",
    "    'Media_Caption_Count': [media_caption_pos_summary[pos] for pos in set(media_caption_pos_summary.keys()) | set(comment_text_pos_summary.keys())],\n",
    "    'Comment_Text_Count': [comment_text_pos_summary[pos] for pos in set(media_caption_pos_summary.keys()) | set(comment_text_pos_summary.keys())]\n",
    "}, index=list(set(media_caption_pos_summary.keys()) | set(comment_text_pos_summary.keys())))\n",
    "\n",
    "pos_comparison = pos_comparison.fillna(0).astype(int)\n",
    "pos_comparison = pos_comparison.sort_values('Media_Caption_Count', ascending=False)\n",
    "\n",
    "print(\"\\nPOS Tag Comparison (Top 15):\")\n",
    "print(\"=\" * 50)\n",
    "print(pos_comparison.head(15))\n"
   ]
  },
  {
   "cell_type": "code",
   "execution_count": 50,
   "id": "e50b0f0f",
   "metadata": {},
   "outputs": [
    {
     "data": {
      "image/png": "[encoded data removed]",
      "text/plain": [
       "<Figure size 1500x600 with 2 Axes>"
      ]
     },
     "metadata": {},
     "output_type": "display_data"
    },
    {
     "name": "stdout",
     "output_type": "stream",
     "text": [
      "\n",
      "Total unique POS tags in media captions: 17\n",
      "Total unique POS tags in comment text: 17\n",
      "Total tokens processed in media captions: 1442589\n",
      "Total tokens processed in comment text: 89815\n"
     ]
    }
   ],
   "source": [
    "# Visualize POS tag distribution\n",
    "import matplotlib.pyplot as plt\n",
    "\n",
    "# Create subplots for comparison\n",
    "fig, (ax1, ax2) = plt.subplots(1, 2, figsize=(15, 6))\n",
    "\n",
    "# Media caption POS tags (top 10)\n",
    "media_top10 = dict(media_caption_pos_summary.most_common(10))\n",
    "ax1.bar(media_top10.keys(), media_top10.values())\n",
    "ax1.set_title('Top 10 POS Tags in Media Captions')\n",
    "ax1.set_xlabel('POS Tag')\n",
    "ax1.set_ylabel('Frequency')\n",
    "ax1.tick_params(axis='x', rotation=45)\n",
    "\n",
    "# Comment text POS tags (top 10)\n",
    "comment_top10 = dict(comment_text_pos_summary.most_common(10))\n",
    "ax2.bar(comment_top10.keys(), comment_top10.values())\n",
    "ax2.set_title('Top 10 POS Tags in Comment Text')\n",
    "ax2.set_xlabel('POS Tag')\n",
    "ax2.set_ylabel('Frequency')\n",
    "ax2.tick_params(axis='x', rotation=45)\n",
    "\n",
    "plt.tight_layout()\n",
    "plt.show()\n",
    "\n",
    "# Show some interesting statistics\n",
    "print(f\"\\nTotal unique POS tags in media captions: {len(media_caption_pos_summary)}\")\n",
    "print(f\"Total unique POS tags in comment text: {len(comment_text_pos_summary)}\")\n",
    "print(f\"Total tokens processed in media captions: {sum(media_caption_pos_summary.values())}\")\n",
    "print(f\"Total tokens processed in comment text: {sum(comment_text_pos_summary.values())}\")\n"
   ]
  },
  {
   "cell_type": "code",
   "execution_count": 51,
   "id": "a1a9cd52",
   "metadata": {},
   "outputs": [],
   "source": [
    "# Named Entity Recognizer Function\n",
    "def named_entity_recognizer(doc):\n",
    "    \n",
    "    words = list()\n",
    "    named_entities = list()\n",
    "    \n",
    "    for ent in doc.ents:\n",
    "        words.append(ent.text)\n",
    "        named_entities.append(ent.label_)\n",
    "        \n",
    "    df = pd.DataFrame({\"Word\" : words,\n",
    "                      \"Named Entity\" : named_entities})\n",
    "    print(df)"
   ]
  },
  {
   "cell_type": "markdown",
   "id": "17b1fcba",
   "metadata": {},
   "source": []
  }
 ],
 "metadata": {
  "kernelspec": {
   "display_name": ".venv",
   "language": "python",
   "name": "python3"
  },
  "language_info": {
   "codemirror_mode": {
    "name": "ipython",
    "version": 3
   },
   "file_extension": ".py",
   "mimetype": "text/x-python",
   "name": "python",
   "nbconvert_exporter": "python",
   "pygments_lexer": "ipython3",
   "version": "3.13.7"
  }
 },
 "nbformat": 4,
 "nbformat_minor": 5
}
